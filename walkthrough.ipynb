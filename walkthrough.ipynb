{
  "cells": [
    {
      "cell_type": "raw",
      "metadata": {},
      "source": [
        "---\n",
        "title: \"Seer SDK Guide\"\n",
        "format: \n",
        "    html: default\n",
        "    ipynb: default\n",
        "\n",
        "---"
      ],
      "id": "d769b41d"
    },
    {
      "cell_type": "markdown",
      "metadata": {},
      "source": [
        "## Installation\n",
        "The package can be installed and imported using the official SeerSDK package on pip. This can be installed using: \n"
      ],
      "id": "dd39a925"
    },
    {
      "cell_type": "code",
      "metadata": {},
      "source": [
        "installation = !pip install SeerSDK\n",
        "print(installation)"
      ],
      "id": "53117d63",
      "execution_count": null,
      "outputs": []
    },
    {
      "cell_type": "markdown",
      "metadata": {},
      "source": [
        "<hr>\n",
        "\n",
        "The SDK uses a `requirements.txt` file to manage dependencies. All dependencies for the SDK can be installed using the following command.\n"
      ],
      "id": "ea2816ee"
    },
    {
      "cell_type": "code",
      "metadata": {},
      "source": [
        "requirements = !pip install -r requirements.txt\n",
        "print(requirements)"
      ],
      "id": "7cb041f9",
      "execution_count": null,
      "outputs": []
    },
    {
      "cell_type": "markdown",
      "metadata": {},
      "source": [
        "## Usage\n",
        "\n",
        "### Configuration\n",
        "PAS has a simple authorization system that just involves your username and password fields like on the web app. You can define your username and password for your own ready reference and convenience as follows:\n"
      ],
      "id": "915e9d4c"
    },
    {
      "cell_type": "code",
      "metadata": {},
      "source": [
        "USERNAME = \"gnu403\"\n",
        "PASSWORD = \"Test!234567\""
      ],
      "id": "e7b0dd9b",
      "execution_count": null,
      "outputs": []
    },
    {
      "cell_type": "markdown",
      "metadata": {},
      "source": [
        "### Instantiation\n",
        "After importing the SeerSDK module, you can instantiate an object in the following way:\n"
      ],
      "id": "b3c3714d"
    },
    {
      "cell_type": "code",
      "metadata": {},
      "source": [
        "from core import SeerSDK\n",
        "\n",
        "# You could alternatively pass your username and password directly into the instatiated object.\n",
        "sdk = SeerSDK(USERNAME, PASSWORD)"
      ],
      "id": "db500ac8",
      "execution_count": null,
      "outputs": []
    },
    {
      "cell_type": "markdown",
      "metadata": {},
      "source": [
        "### [Optional] Logging\n",
        "For your own convenience, you can define a log function that allows you to print data from the SDK in a much better and presentable manner.\n"
      ],
      "id": "6cc52fdc"
    },
    {
      "cell_type": "code",
      "metadata": {},
      "source": [
        "import json\n",
        "\n",
        "def log(fn):\n",
        "    try:\n",
        "        print(fn)\n",
        "    except:\n",
        "        print(fn)"
      ],
      "id": "713a7a6c",
      "execution_count": null,
      "outputs": []
    },
    {
      "cell_type": "markdown",
      "metadata": {},
      "source": [
        "## Examples\n",
        "\n",
        "### Get Spaces\n",
        "Fetches a list of spaces for the authenticated user.\n",
        "\n",
        "###### <u>Params</u>\n",
        "None.\n",
        "<br>\n",
        "\n",
        "###### <u>Returns</u>\n",
        "`spaces`: (`list`) List of space objects for the authenticated user.\n",
        "\n",
        "###### <u>Example</u>\n"
      ],
      "id": "79f6412c"
    },
    {
      "cell_type": "code",
      "metadata": {},
      "source": [
        "#| code-overflow: wrap \n",
        "spaces = sdk.get_spaces()\n",
        "log(spaces)"
      ],
      "id": "ce3b883c",
      "execution_count": null,
      "outputs": []
    },
    {
      "cell_type": "markdown",
      "metadata": {},
      "source": [
        "<hr>\n",
        "\n",
        "\n",
        "### Get Samples Metadata\n",
        "Fetches a list of samples for the authenticated user, filtered by `plate_id`. Returns all samples for the plate with the given `plate_id`, provided it exists.\n",
        "\n",
        "If both `plate_id` and `project_id` are passed in, only the `plate_id` is validated first.\n",
        "\n",
        "The function returns a dict containing DataFrame objects if the `df` flag is passed in as True, otherwise a nested dict object is returned instead.\n",
        "\n",
        "###### <u>Params</u>\n",
        "* `plate_id`: (`str`, optional) ID of the plate for which samples are to be fetched, defaulted to `None`.\n",
        "* `project_id`: (`str`, optional) Unique ID of the project to be fetched. Defaulted to `None`\n",
        "* `df`: (`bool`, optional) Boolean denoting whether the user wants the response back in JSON or a DataFrame object.\n",
        "<br>\n",
        "\n",
        "###### <u>Returns</u>\n",
        "`samples`: (`list` or `DataFrame`) `List` or `DataFrame` of samples for the authenticated user.\n",
        "\n",
        "###### <u>Example</u>\n",
        "You could use the `project_id` as in the example below:\n"
      ],
      "id": "e56eaf69"
    },
    {
      "cell_type": "code",
      "metadata": {},
      "source": [
        "plate_id = \"7ec8cad0-15e0-11ee-bdf1-bbaa73585acf\"\n",
        "project_id = \"7e48e150-8a47-11ed-b382-bf440acece26\"\n",
        "sample_project = sdk.get_samples_metadata(project_id=project_id)\n",
        "log(sample_project)"
      ],
      "id": "769d3dcf",
      "execution_count": null,
      "outputs": []
    },
    {
      "cell_type": "markdown",
      "metadata": {},
      "source": [
        "Alteratively, you could use the `plate_id` as in the example below:\n"
      ],
      "id": "b2083b83"
    },
    {
      "cell_type": "code",
      "metadata": {},
      "source": [
        "plate_id = \"7ec8cad0-15e0-11ee-bdf1-bbaa73585acf\"\n",
        "project_id = \"7e48e150-8a47-11ed-b382-bf440acece26\"\n",
        "sample_plate = sdk.get_samples_metadata(plate_id=plate_id)\n",
        "log(sample_plate)"
      ],
      "id": "4cad3244",
      "execution_count": null,
      "outputs": []
    },
    {
      "cell_type": "markdown",
      "metadata": {},
      "source": [
        "However, when you pass both `plate_id` and `project_id`, only the `plate_id` is validated.\n"
      ],
      "id": "171fd889"
    },
    {
      "cell_type": "code",
      "metadata": {},
      "source": [
        "plate_id = \"7ec8cad0-15e0-11ee-bdf1-bbaa73585acf\"\n",
        "project_id = \"7e48e150-8a47-11ed-b382-bf440acece26\"\n",
        "example = sdk.get_samples_metadata(plate_id, project_id, df=True)\n",
        "log(example)"
      ],
      "id": "2d7ac503",
      "execution_count": null,
      "outputs": []
    },
    {
      "cell_type": "markdown",
      "metadata": {},
      "source": [
        "### Get Plate Metadata\n",
        "Fetches a list of plates for the authenticated user. If no `plate_id` is provided, returns all plates for the authenticated user. If `plate_id` is provided, returns the plate with the given `plate_id`, provided it exists. \n",
        "\n",
        "Same as `get_plate_metadata` but returns a `DataFrame` object instead.\n",
        "\n",
        "###### <u>Params</u>\n",
        "* `plate_id`: (`str`, optional) Unique ID of the plate to be fetched, defaulted to `None`.\n",
        "* `df`: (`bool`, optional) Boolean denoting whether the user wants the response back in JSON or a DataFrame object.\n",
        "<br>\n",
        "\n",
        "###### <u>Returns</u>\n",
        "`plates`: (`list` or `DataFrame`) `list` or `DataFrame` of plate objects for the authenticated user.\n",
        "\n",
        "###### <u>Example</u>\n"
      ],
      "id": "cc589b69"
    },
    {
      "cell_type": "code",
      "metadata": {},
      "source": [
        "plates = sdk.get_plate_metadata()\n",
        "log(plates)"
      ],
      "id": "3232f0e1",
      "execution_count": null,
      "outputs": []
    },
    {
      "cell_type": "markdown",
      "metadata": {},
      "source": [
        "You can also pass in a specific `plate_id` to specifically fetch a plate.\n"
      ],
      "id": "e1995fe4"
    },
    {
      "cell_type": "code",
      "metadata": {},
      "source": [
        "plate_id = \"00d1ac50-1149-11ee-85b5-bd8ec5ef4e32\"\n",
        "sample_plate = sdk.get_plate_metadata(plate_id)\n",
        "log(sample_plate)"
      ],
      "id": "a59c7c7b",
      "execution_count": null,
      "outputs": []
    },
    {
      "cell_type": "markdown",
      "metadata": {},
      "source": [
        "With the `df` flag set to `True`:\n"
      ],
      "id": "13a126e1"
    },
    {
      "cell_type": "code",
      "metadata": {},
      "source": [
        "sample_plate = sdk.get_plate_metadata(plate_id, df=True)\n",
        "log(sample_plate)"
      ],
      "id": "1df044c6",
      "execution_count": null,
      "outputs": []
    },
    {
      "cell_type": "markdown",
      "metadata": {},
      "source": [
        "<hr>\n",
        "\n",
        "\n",
        "\n",
        "### Get Plate\n",
        "Fetches MS data files for a `plate_id` (provided that the `plate_id` is valid and has samples associated with it) for an authenticated user. \n",
        "\n",
        "The function returns a dict containing `DataFrame` objects if the `df` flag is passed in as True, otherwise a nested dict object is returned instead.\n",
        "\n",
        "###### <u>Params</u>\n",
        "* `plate_id`: (`str`, optional) Unique ID of the plate to be fetched, defaulted to `None`.\n",
        "* `df`: (`bool`, optional) Boolean denoting whether the user wants the response back in JSON or a DataFrame object.\n",
        "<br>\n",
        "\n",
        "###### <u>Returns</u>\n",
        "`res`: (`DataFrame`) List/`DataFrame` of MS data file objects for the authenticated user.\n",
        "\n",
        "###### <u>Example</u>\n"
      ],
      "id": "e192eb9a"
    },
    {
      "cell_type": "code",
      "metadata": {},
      "source": [
        "plate_id = \"00d1ac50-1149-11ee-85b5-bd8ec5ef4e32\"\n",
        "sample_plate = sdk.get_plate(plate_id)\n",
        "log(sample_plate)"
      ],
      "id": "b95b9705",
      "execution_count": null,
      "outputs": []
    },
    {
      "cell_type": "markdown",
      "metadata": {},
      "source": [
        "With `df` flag set to `True`:\n"
      ],
      "id": "a844bd98"
    },
    {
      "cell_type": "code",
      "metadata": {},
      "source": [
        "sample_plate = sdk.get_plate(plate_id=plate_id, df=True)\n",
        "log(sample_plate)"
      ],
      "id": "ec523658",
      "execution_count": null,
      "outputs": []
    },
    {
      "cell_type": "markdown",
      "metadata": {},
      "source": [
        "<hr>\n",
        "\n",
        "### Get MS Data\n",
        "Fetches MS data files for passed in `sample_ids` (provided they are valid and contain relevant files) for an authenticated user. \n",
        "\n",
        "The function returns a dict containing `DataFrame` objects if the `df` flag is passed in as True, otherwise a nested dict object is returned instead.\n",
        "\n",
        "###### <u>Params</u>\n",
        "* `sample_ids`: (`list`) List of unique sample IDs.\n",
        "* `df`: (`bool`, optional) Boolean denoting whether the user wants the response back in JSON or a DataFrame object.\n",
        "<br>\n",
        "\n",
        "###### <u>Returns</u>\n",
        "`res`: (`DataFrame`) `List` or `DataFrame` of MS data file objects for the authenticated user.\n",
        "\n",
        "###### <u>Example</u>\n"
      ],
      "id": "a8229e40"
    },
    {
      "cell_type": "code",
      "metadata": {},
      "source": [
        "sample_ids = [\"812139c0-15e0-11ee-bdf1-bbaa73585acf\", \"803e05b0-15e0-11ee-bdf1-bbaa73585acf\"]\n",
        "example = sdk.get_msdata(sample_ids)\n",
        "log(example)"
      ],
      "id": "f41fdb27",
      "execution_count": null,
      "outputs": []
    },
    {
      "cell_type": "markdown",
      "metadata": {},
      "source": [
        "There is also an option to return everything as a DataFrame instead:\n"
      ],
      "id": "073813a0"
    },
    {
      "cell_type": "code",
      "metadata": {},
      "source": [
        "example = sdk.get_msdata(sample_ids, df=True)\n",
        "log(example)"
      ],
      "id": "079dd2fe",
      "execution_count": null,
      "outputs": []
    },
    {
      "cell_type": "markdown",
      "metadata": {},
      "source": [
        "<hr>\n",
        "\n",
        "\n",
        "### Get Project Metadata\n",
        "Fetches a list of projects for the authenticated user. If no `project_id` is provided, returns all projects for the authenticated user. If `project_id` is provided, returns the project with the given `project_id`, provided it exists.\n",
        "\n",
        "The function returns a dict containing `DataFrame` objects if the `df` flag is passed in as True, otherwise a nested dict object is returned instead.\n",
        "\n",
        "###### <u>Params</u>\n",
        "* `project_id`: (`str`, optional) Unique ID of the project to be fetched, defaulted to `None`.\n",
        "* `df`: (`bool`, optional) Boolean denoting whether the user wants the response back in JSON or a DataFrame object.\n",
        "<br>\n",
        "\n",
        "###### <u>Returns</u>\n",
        "`projects`: (`list` or `DataFrame`) `list` or `DataFrame` of plate objects for the authenticated user.\n",
        "\n",
        "###### <u>Example</u>\n"
      ],
      "id": "6878064f"
    },
    {
      "cell_type": "code",
      "metadata": {},
      "source": [
        "projects = sdk.get_project_metadata()\n",
        "log(projects)"
      ],
      "id": "0dcaaa82",
      "execution_count": null,
      "outputs": []
    },
    {
      "cell_type": "markdown",
      "metadata": {},
      "source": [
        "You can also pass in a specific `project_id` to specifically fetch a project.\n"
      ],
      "id": "b100996a"
    },
    {
      "cell_type": "code",
      "metadata": {},
      "source": [
        "project_id = \"222e0890-0f95-11ee-9c0f-3bf27c252a07\"\n",
        "sample_project = sdk.get_project_metadata(project_id)\n",
        "log(sample_project)"
      ],
      "id": "6bf53744",
      "execution_count": null,
      "outputs": []
    },
    {
      "cell_type": "markdown",
      "metadata": {},
      "source": [
        "<hr>\n",
        "\n",
        "### Get Project\n",
        "Fetches samples (and MS data files) for a `project_id` (provided that the `project_id` is valid and has samples associated with it) for an authenticated user. \n",
        "\n",
        "The function returns a dict containing DataFrame objects if the `df` flag is passed in as True, otherwise a nested dict object is returned instead.\n",
        "\n",
        "###### <u>Params</u>\n",
        "* `project_id`: (`str`, optional) Unique ID of the project to be fetched.\n",
        "* `msdata`: (`bool`, optional) Boolean flag denoting whether the user wants relevant MS data files associated with the samples.\n",
        "* `df`: (`bool`, optional) Boolean denoting whether the user wants the response back in JSON or a DataFrame object.\n",
        "<br>\n",
        "\n",
        "###### <u>Returns</u>\n",
        "`res`: (`list` or `DataFrame`) `List` or `DataFrame` of project objects for the authenticated user.\n",
        "\n",
        "###### <u>Example</u>\n"
      ],
      "id": "b2b994ba"
    },
    {
      "cell_type": "code",
      "metadata": {},
      "source": [
        "project_id = \"7e48e150-8a47-11ed-b382-bf440acece26\"\n",
        "sample_project = sdk.get_project(project_id=project_id, msdata=False, df=False)\n",
        "log(sample_project)"
      ],
      "id": "16bbbcd0",
      "execution_count": null,
      "outputs": []
    },
    {
      "cell_type": "markdown",
      "metadata": {},
      "source": [
        "With the `msdata` and `df` flags set as True:\n"
      ],
      "id": "3891fa74"
    },
    {
      "cell_type": "code",
      "metadata": {},
      "source": [
        "sample_project = sdk.get_project(project_id=project_id, msdata=True, df=True)\n",
        "log(sample_project)"
      ],
      "id": "16329c48",
      "execution_count": null,
      "outputs": []
    },
    {
      "cell_type": "markdown",
      "metadata": {},
      "source": [
        "<hr>\n",
        "\n",
        "\n",
        "### Get Analysis Protocols\n",
        "Fetches a list of analysis protocols for the authenticated user. If no analysis_id is provided, returns all analysis protocols for the authenticated user. If name (and no analysis_id) is provided, returns the analysis protocol with the given name, provided it exists. \n",
        "\n",
        "###### <u>Params</u>\n",
        "* `analysis_id`: (`str`, optional) Unique ID of the analysis protocol to be fetched, defaulted to None.\n",
        "* `name`: (`str`, optional) Name of the analysis protocol to be fetched, defaulted to None.\n",
        "<br>\n",
        "\n",
        "###### <u>Returns</u>\n",
        "`protocols`: (`list`) List of analysis protocol objects for the authenticated user.\n",
        "\n",
        "###### <u>Example</u>\n"
      ],
      "id": "e9deaa1f"
    },
    {
      "cell_type": "code",
      "metadata": {},
      "source": [
        "analysis_protocols = sdk.get_analysis_protocols()\n",
        "log(analysis_protocols)"
      ],
      "id": "60653353",
      "execution_count": null,
      "outputs": []
    },
    {
      "cell_type": "markdown",
      "metadata": {},
      "source": [
        "You can also pass in a specific `name` to specifically fetch an analysis protocol.\n"
      ],
      "id": "676aa8fa"
    },
    {
      "cell_type": "code",
      "metadata": {},
      "source": [
        "protocol_name = \"testMSFraggerUpload26\"\n",
        "sample_analysis_protocol = sdk.get_analysis_protocols(analysis_protocol_name=protocol_name)\n",
        "log(sample_analysis_protocol)"
      ],
      "id": "a6e9b6b2",
      "execution_count": null,
      "outputs": []
    },
    {
      "cell_type": "markdown",
      "metadata": {},
      "source": [
        "The same can be done for `analysis_id`.\n"
      ],
      "id": "cc6ab54e"
    },
    {
      "cell_type": "code",
      "metadata": {},
      "source": [
        "protocol_id = \"dc61a360-6b77-11ed-8ac3-37d35135f08e\"\n",
        "sample_analysis_protocol = sdk.get_analysis_protocols(analysis_protocol_id=protocol_id)\n",
        "log(sample_analysis_protocol)"
      ],
      "id": "57404567",
      "execution_count": null,
      "outputs": []
    },
    {
      "cell_type": "markdown",
      "metadata": {},
      "source": [
        "<hr>\n",
        "\n",
        "\n",
        "\n",
        "\n",
        "### Get Analysis\n",
        "Returns a list of analyses objects for the authenticated user. If no `analysis_id` is provided, returns all analyses for the authenticated user.\n",
        "\n",
        "###### <u>Params</u>\n",
        "`analysis_id`: (`str`, optional) Unique ID of the analysis to be fetched, defaulted to None.\n",
        "<br>\n",
        "\n",
        "###### <u>Returns</u>\n",
        "`analyses`: (`dict`) Contains a list of analyses objects for the authenticated user.\n",
        "\n",
        "###### <u>Example</u>\n"
      ],
      "id": "097a0f29"
    },
    {
      "cell_type": "code",
      "metadata": {},
      "source": [
        "analyses = sdk.get_analysis()\n",
        "log(analyses)"
      ],
      "id": "b429813a",
      "execution_count": null,
      "outputs": []
    },
    {
      "cell_type": "markdown",
      "metadata": {},
      "source": [
        "You can also pass in a specific `analysis_id` to specifically fetch an analysis.\n"
      ],
      "id": "d4ec382e"
    },
    {
      "cell_type": "code",
      "metadata": {},
      "source": [
        "analysis_id = \"00425a60-a850-11ea-b3d7-0171d11d0807\"\n",
        "sample_analysis = sdk.get_analysis(analysis_id)\n",
        "log(sample_analysis)"
      ],
      "id": "37bf35a1",
      "execution_count": null,
      "outputs": []
    },
    {
      "cell_type": "markdown",
      "metadata": {},
      "source": [
        "<hr>\n",
        "\n",
        "\n",
        "### Get Analysis Result\n",
        "Given an `analysis_id`, this function returns all relevant analysis data files in form of DataFrames, if the input is valid and the analysis has succeeded.\n",
        "\n",
        "In case the analysis has failed for the given `analysis_id`, the function will return a `ValueError`.\n",
        "\n",
        "\n",
        "###### <u>Params</u>\n",
        "* `analysis_id`: (`str`) Unique ID of the analysis for which the data is to be fetched.\n",
        "* `download`: (`bool`, optional) Boolean flag denoting whether the user wants the files downloaded to a local directory or not.\n",
        "\n",
        "###### <u>Returns</u>\n",
        "`links`: (`dict`) Contains `DataFrame` objects for the `analysis_id`, given that the analysis has been complete.\n",
        "\n",
        "###### <u>Example</u>\n",
        "If you want the result as `DataFrame` objects:\n"
      ],
      "id": "ec0ed641"
    },
    {
      "cell_type": "code",
      "metadata": {},
      "source": [
        "analysis_id = \"ddff8c40-0493-11ee-bd19-a77197cd1a6b\"\n",
        "analysis_data = sdk.get_analysis_result(analysis_id)\n",
        "log(analysis_data)"
      ],
      "id": "7d2e2cc0",
      "execution_count": null,
      "outputs": []
    },
    {
      "cell_type": "markdown",
      "metadata": {},
      "source": [
        "If you want the resulting CSV downloaded to the local directory:\n"
      ],
      "id": "ffae9915"
    },
    {
      "cell_type": "code",
      "metadata": {},
      "source": [
        "analysis_data = sdk.get_analysis_result(analysis_id, download=True)\n",
        "log(analysis_data)"
      ],
      "id": "af28457b",
      "execution_count": null,
      "outputs": []
    },
    {
      "cell_type": "markdown",
      "metadata": {},
      "source": [
        "The file will be stored in `/downloads/` directory under the unique `analysis_id` you entered.\n",
        "<hr>\n",
        "\n",
        "\n",
        "### Add Project\n",
        "Creates a new project with a given `project_name` and a list containing `project_id` strings.\n",
        "\n",
        "###### <u>Params</u>\n",
        "* `project_name`: (`str`) Name of the project.\n",
        "* `plate_ids`: (`list[str]`) List of the plate ids to be added to the project.\n",
        "* `description`: (`str`, optional) Description of the project.\n",
        "* `notes`: (`str`, optional) Notes for the project.\n",
        "* `space`: (`str`, optional) Space where the object is contained. Defaults to the space of the user who is creating the project (or `None`).\n",
        "<br>\n",
        "\n",
        "###### <u>Returns</u>\n",
        "`res`: (`dict`) A sictionary containing the status of the request if succeeded.\n",
        "\n",
        "###### <u>Example</u>\n"
      ],
      "id": "7a0e843d"
    },
    {
      "cell_type": "code",
      "metadata": {},
      "source": [
        "project_name = \"test_project\" \n",
        "plate_ids = [\"9872e3f0-544e-11ea-ad9e-1991e0725494\", \"5b05d440-6610-11ea-96e3-d5a4dab4ebf6\"]\n",
        "print(sdk.add_project(project_name, plate_ids))"
      ],
      "id": "1a3dc067",
      "execution_count": null,
      "outputs": []
    },
    {
      "cell_type": "markdown",
      "metadata": {},
      "source": [
        "<hr>\n",
        "\n",
        "\n",
        "\n",
        "### Analysis Complete\n",
        "Returns the status of the analysis with the given `analysis_id`.\n",
        "\n",
        "###### <u>Params</u>\n",
        "`analysis_id`: (`str`) Unique ID of the analysis.\n",
        "\n",
        "###### <u>Returns</u>\n",
        "`res`: (`dict`) A dictionary containing the status of the analysis.\n",
        "\n",
        "###### <u>Example</u>\n"
      ],
      "id": "91313e23"
    },
    {
      "cell_type": "code",
      "metadata": {},
      "source": [
        "analysis_id = \"ddff8c40-0493-11ee-bd19-a77197cd1a6b\" \n",
        "print(sdk.analysis_complete(analysis_id))"
      ],
      "id": "2988ad3b",
      "execution_count": null,
      "outputs": []
    },
    {
      "cell_type": "markdown",
      "metadata": {},
      "source": [
        "<hr>\n",
        "\n",
        "### Add Plate\n",
        "Add a plate given a list of `ms_data_files`, `plate_map_file`, `plate_id`, `plate_name`, and `space`.\n",
        "\n",
        "###### <u>Params</u>\n",
        "* `ms_data_files`: (`list[str]`) List of MS Data files.\n",
        "* `plate_map_file`: (`str`) The plate map file.\n",
        "* `plate_id`: (`str`) The plate ID. Must be unique.\n",
        "* `plate_name`: (`str`) The plate name.\n",
        "* `space`: (`str`, optional) Space where the plate is contained. Defaults to the space of the user who is creating the project (or `None`).\n",
        "<br>\n",
        "\n",
        "###### <u>Returns</u>\n",
        "`res`: (`dict`) A sictionary containing the status of the request if succeeded.\n",
        "\n",
        "###### <u>Example</u>\n"
      ],
      "id": "21a2f78a"
    },
    {
      "cell_type": "code",
      "metadata": {},
      "source": [
        "data_file_locations = [\"testing/AgamSDKTest1.raw\", \"testing/AgamSDKTest2.raw\"]\n",
        "plate_map_location = \"testing/AgamSDKPlateMapATest.csv\"\n",
        "sample_plate_id= \"unique223id\"\n",
        "sample_plate_name = \"some_plate_name\" \n",
        "\n",
        "print(sdk.add_plate(data_file_locations, plate_map_location, sample_plate_id, sample_plate_name))"
      ],
      "id": "bdc3ed83",
      "execution_count": null,
      "outputs": []
    },
    {
      "cell_type": "markdown",
      "metadata": {},
      "source": [
        "<hr>\n",
        "\n",
        "### Start Analysis\n",
        "Start a new analysis for the authenticated_user given an `analysis_name`, `analysis_protocol_id`, and `project_id`.\n",
        "\n",
        "###### <u>Params</u>\n",
        "* `analysis_name`: (`str`) Name of the analysis.\n",
        "* `project_ids`: (`str`) ID of the project to which the analysis belongs. Can be fetched using the `get_project_metadatas()` function.\n",
        "* `analysis_protocol_name`: (`str`, optional) Name of the analysis protocol to be used for the analysis. Can be fetched using the `get_analysis_protocols()` function. Should be omitted if analysis_protocol_id is provided.\n",
        "* `analysis_protocol_id`: (`str`, optional) ID of the analysis protocol to be used for the analysis. Can be fetched using the `get_analysis_protocols()` function. Should be omitted if `analysis_protocol_name` is provided.\n",
        "* `notes`: (`str`, optional): Notes for the analysis, defaulted to an empty string\n",
        "* `description`: (`str`, optional): Description for the analysis, defaulted to an empty string.\n",
        "* `space`: (`str`, optional) Space where the object is contained. Defaults to the space of the user who is creating the project (or `None`).\n",
        "<br>\n",
        "\n",
        "###### <u>Returns</u>\n",
        "`res`: (`dict`) Contains message whether the analysis was started or not.\n",
        "\n",
        "###### <u>Example</u>\n"
      ],
      "id": "2913a45e"
    },
    {
      "cell_type": "code",
      "metadata": {},
      "source": [
        "name = \"testAnalysis\"\n",
        "project_id = \"1e324300-0496-11ee-bd19-a77197cd1a6b\"\n",
        "analysis_protocol_name = \"testMSFraggerUpload26\" # you can also specify `analysis_protocol_id` instead\n",
        "print(sdk.start_analysis(name, project_id, analysis_protocol_name=analysis_protocol_name))"
      ],
      "id": "f606b5a0",
      "execution_count": null,
      "outputs": []
    },
    {
      "cell_type": "markdown",
      "metadata": {},
      "source": [
        "<hr>"
      ],
      "id": "6f32154b"
    }
  ],
  "metadata": {
    "kernelspec": {
      "name": "python3",
      "language": "python",
      "display_name": "Python 3 (ipykernel)"
    }
  },
  "nbformat": 4,
  "nbformat_minor": 5
}